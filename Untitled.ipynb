{
 "cells": [
  {
   "cell_type": "code",
   "execution_count": 4,
   "metadata": {},
   "outputs": [],
   "source": [
    "import pandas as pd\n",
    "import numpy as np\n",
    "\n",
    "data= pd.read_csv(\"./data/torvet_Benzin.csv\",sep=\";\")\n",
    "data= data.drop(['link','location'], axis=1)\n",
    "\n",
    "for index in data.index:\n",
    "    data.loc[index, 'km']=data.loc[index, 'km'].replace('.','')\n",
    "    if(data.loc[index, 'km'].isdigit()):\n",
    "        data.loc[index, 'km']=float(data.loc[index, 'km'])\n",
    "    else:\n",
    "        data.loc[index, 'km']=None\n",
    "    \n",
    "    if \"Audi\" not in data.loc[index,'model']:\n",
    "        data.loc[index,'model']=None\n",
    "    else:\n",
    "        data.loc[index,'model']=data.loc[index,'model'].replace('Audi','').strip()\n",
    "    \n",
    "#--- this code is just for information purpose ---\n",
    "\n",
    "#bool_matrix=data.isnull();\n",
    "#only_null_filter = bool_matrix.any(axis=1)\n",
    "#missing = data[only_null_filter]\n",
    "#print(missing.info)\n",
    "#print()\n",
    "#print(data.info)\n",
    "#---  end ---\n",
    "\n",
    "data.dropna(inplace=True)\n",
    "#print(data.info)\n",
    "\n",
    "\n",
    "\n",
    "    \n",
    "\n",
    "        \n",
    "\n",
    "#data.head(50)"
   ]
  },
  {
   "cell_type": "code",
   "execution_count": 5,
   "metadata": {},
   "outputs": [],
   "source": [
    "\n",
    "typ=data['type']\n",
    "capacity=[]\n",
    "count=0\n",
    "for t in list(typ):\n",
    "    \n",
    "    a=t.split('TFSi')\n",
    "    if(len(a)==2):\n",
    "        capacity.append(a[0].strip())\n",
    "    else:\n",
    "        b=a[0].split(' ')\n",
    "        capacity.append(b[0])\n",
    "    \n",
    "    if (capacity[count]== None or len(capacity[count])>3):\n",
    "        #print(t)\n",
    "        c=t.replace(\"Sportback\",\"\").replace(\"Lang\",\"\").replace(\"Avant\",\"\").replace(\"Roadster\",\"\").replace(\"Spyder\",\"\").strip()\n",
    "        c=c.split(\" \")\n",
    "       \n",
    "        c=c[0]\n",
    "        capacity[count]=c\n",
    "        #print(capacity[count])\n",
    "        \n",
    "    count+=1\n",
    "    \n",
    "data['capacity']=capacity    \n",
    "\n",
    "#data.loc[14:30]\n",
    "  "
   ]
  },
  {
   "cell_type": "code",
   "execution_count": 8,
   "metadata": {},
   "outputs": [
    {
     "data": {
      "text/plain": [
       "35"
      ]
     },
     "execution_count": 8,
     "metadata": {},
     "output_type": "execute_result"
    }
   ],
   "source": [
    "\n",
    "uniqe_models=np.unique(data['model'])\n",
    "len(uniqe_models)"
   ]
  },
  {
   "cell_type": "code",
   "execution_count": null,
   "metadata": {},
   "outputs": [],
   "source": []
  }
 ],
 "metadata": {
  "kernelspec": {
   "display_name": "Python 3",
   "language": "python",
   "name": "python3"
  },
  "language_info": {
   "codemirror_mode": {
    "name": "ipython",
    "version": 3
   },
   "file_extension": ".py",
   "mimetype": "text/x-python",
   "name": "python",
   "nbconvert_exporter": "python",
   "pygments_lexer": "ipython3",
   "version": "3.7.6"
  }
 },
 "nbformat": 4,
 "nbformat_minor": 4
}
